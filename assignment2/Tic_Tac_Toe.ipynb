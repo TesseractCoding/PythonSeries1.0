{
  "nbformat": 4,
  "nbformat_minor": 0,
  "metadata": {
    "colab": {
      "name": "Tic-Tac-Toe.ipynb",
      "provenance": []
    },
    "kernelspec": {
      "name": "python3",
      "display_name": "Python 3"
    }
  },
  "cells": [
    {
      "cell_type": "markdown",
      "metadata": {
        "id": "ZPmP3nevFp1U",
        "colab_type": "text"
      },
      "source": [
        "##Tic-Tac-Toe in Python "
      ]
    },
    {
      "cell_type": "code",
      "metadata": {
        "id": "7sWDfIQNFkyi",
        "colab_type": "code",
        "colab": {}
      },
      "source": [
        "#We have a Dictionary as our board where each number is a key represented by a value.\n",
        "theBoard = {'7': ' ' , '8': ' ' , '9': ' ' ,\n",
        "            '4': ' ' , '5': ' ' , '6': ' ' ,\n",
        "            '1': ' ' , '2': ' ' , '3': ' ' }"
      ],
      "execution_count": 13,
      "outputs": []
    },
    {
      "cell_type": "code",
      "metadata": {
        "id": "Knuj6a8tFnNM",
        "colab_type": "code",
        "colab": {}
      },
      "source": [
        "#am empty list to store keys is made, and incoming key values are appended to the board \n",
        "board_keys = []\n",
        "\n",
        "for key in theBoard:\n",
        "    board_keys.append(key)"
      ],
      "execution_count": 14,
      "outputs": []
    },
    {
      "cell_type": "code",
      "metadata": {
        "id": "LfCYhrRHFnS0",
        "colab_type": "code",
        "colab": {}
      },
      "source": [
        "#printBoard function is created to print the board on the scrren after every move of the player\n",
        "def printBoard(board):\n",
        "    print(board['7'] + '|' + board['8'] + '|' + board['9'])\n",
        "    print('-+-+-')\n",
        "    print(board['4'] + '|' + board['5'] + '|' + board['6'])\n",
        "    print('-+-+-')\n",
        "    print(board['1'] + '|' + board['2'] + '|' + board['3'])"
      ],
      "execution_count": 15,
      "outputs": []
    },
    {
      "cell_type": "code",
      "metadata": {
        "id": "zQ_GoSRxFnYy",
        "colab_type": "code",
        "colab": {
          "base_uri": "https://localhost:8080/",
          "height": 1000
        },
        "outputId": "ea2939b8-b8ec-479c-ac87-36ee00794410"
      },
      "source": [
        "#this is the main function of our game and super easy to follow \n",
        "def game():\n",
        "\n",
        "    turn = 'X' # set a turn to X initially\n",
        "    count = 0  # counter variable\n",
        "\n",
        "\n",
        "    for i in range(10):   # loops from 1 to 9th position\n",
        "        printBoard(theBoard)   #print board\n",
        "        print(\"It's your turn,\" + turn + \".Move to which place?\")    \n",
        "\n",
        "        move = input()  #user input to enter its position on the board\n",
        "        if theBoard[move] == ' ': # checks if input place is empty on the board \n",
        "          theBoard[move] = turn  # if empty replaces by the turn either X or O\n",
        "          count += 1    # increases the counter\n",
        "        else:\n",
        "            print(\"That place is already filled.\\nMove to which place?\")   #if place is filled gives a messege\n",
        "            continue\n",
        "\n",
        "        # Now we will check if player X or O has won,for every move after 5 moves. why 5 becuase one player will get 3 moves by this time and can possibliy win \n",
        "        if count >= 5:\n",
        "          #checking all possible conditions of match / win on a tic tac toe\n",
        "            if theBoard['7'] == theBoard['8'] == theBoard['9'] != ' ': # across the top \n",
        "                printBoard(theBoard)   #if conditon satisfies \n",
        "                print(\"\\nGame Over.\\n\")                \n",
        "                print(\" **** \" +turn + \" won. ****\")        #win msg        \n",
        "                break       #break loop\n",
        "            elif theBoard['4'] == theBoard['5'] == theBoard['6'] != ' ': # across the middle\n",
        "                printBoard(theBoard)\n",
        "                print(\"\\nGame Over.\\n\")                \n",
        "                print(\" **** \" +turn + \" won. ****\")\n",
        "                break\n",
        "            elif theBoard['1'] == theBoard['2'] == theBoard['3'] != ' ': # across the bottom\n",
        "                printBoard(theBoard)\n",
        "                print(\"\\nGame Over.\\n\")                \n",
        "                print(\" **** \" +turn + \" won. ****\")\n",
        "                break\n",
        "            elif theBoard['1'] == theBoard['4'] == theBoard['7'] != ' ': # down the left side\n",
        "                printBoard(theBoard)\n",
        "                print(\"\\nGame Over.\\n\")                \n",
        "                print(\" **** \" +turn + \" won. ****\")\n",
        "                break\n",
        "            elif theBoard['2'] == theBoard['5'] == theBoard['8'] != ' ': # down the middle\n",
        "                printBoard(theBoard)\n",
        "                print(\"\\nGame Over.\\n\")                \n",
        "                print(\" **** \" +turn + \" won. ****\")\n",
        "                break\n",
        "            elif theBoard['3'] == theBoard['6'] == theBoard['9'] != ' ': # down the right side\n",
        "                printBoard(theBoard)\n",
        "                print(\"\\nGame Over.\\n\")                \n",
        "                print(\" **** \" +turn + \" won. ****\")\n",
        "                break \n",
        "            elif theBoard['7'] == theBoard['5'] == theBoard['3'] != ' ': # diagonal\n",
        "                printBoard(theBoard)\n",
        "                print(\"\\nGame Over.\\n\")                \n",
        "                print(\" **** \" +turn + \" won. ****\")\n",
        "                break\n",
        "            elif theBoard['1'] == theBoard['5'] == theBoard['9'] != ' ': # diagonal\n",
        "                printBoard(theBoard)\n",
        "                print(\"\\nGame Over.\\n\")                \n",
        "                print(\" **** \" +turn + \" won. ****\")\n",
        "                break \n",
        "\n",
        "        # If neither X nor O wins and the board is full, we'll declare the result as 'tie'.\n",
        "        if count == 9:\n",
        "            print(\"\\nGame Over.\\n\")                \n",
        "            print(\"It's a Tie!!\")\n",
        "\n",
        "        # Now we have to change the player after every move.\n",
        "        if turn =='X':\n",
        "            turn = 'O'\n",
        "        else:\n",
        "            turn = 'X'        \n",
        "    \n",
        "    # Now we will ask if player wants to restart the game or not.\n",
        "    restart = input(\"Do want to play Again?(y/n)\")\n",
        "    if restart == \"y\" or restart == \"Y\":  \n",
        "        for key in board_keys:\n",
        "            theBoard[key] = \" \"\n",
        "\n",
        "        game()\n",
        "\n",
        "if __name__ == \"__main__\":\n",
        "    game()"
      ],
      "execution_count": 16,
      "outputs": [
        {
          "output_type": "stream",
          "text": [
            " | | \n",
            "-+-+-\n",
            " | | \n",
            "-+-+-\n",
            " | | \n",
            "It's your turn,X.Move to which place?\n",
            "5\n",
            " | | \n",
            "-+-+-\n",
            " |X| \n",
            "-+-+-\n",
            " | | \n",
            "It's your turn,O.Move to which place?\n",
            "1\n",
            " | | \n",
            "-+-+-\n",
            " |X| \n",
            "-+-+-\n",
            "O| | \n",
            "It's your turn,X.Move to which place?\n",
            "7\n",
            "X| | \n",
            "-+-+-\n",
            " |X| \n",
            "-+-+-\n",
            "O| | \n",
            "It's your turn,O.Move to which place?\n",
            "3\n",
            "X| | \n",
            "-+-+-\n",
            " |X| \n",
            "-+-+-\n",
            "O| |O\n",
            "It's your turn,X.Move to which place?\n",
            "2\n",
            "X| | \n",
            "-+-+-\n",
            " |X| \n",
            "-+-+-\n",
            "O|X|O\n",
            "It's your turn,O.Move to which place?\n",
            "8\n",
            "X|O| \n",
            "-+-+-\n",
            " |X| \n",
            "-+-+-\n",
            "O|X|O\n",
            "It's your turn,X.Move to which place?\n",
            "4\n",
            "X|O| \n",
            "-+-+-\n",
            "X|X| \n",
            "-+-+-\n",
            "O|X|O\n",
            "It's your turn,O.Move to which place?\n",
            "9\n",
            "X|O|O\n",
            "-+-+-\n",
            "X|X| \n",
            "-+-+-\n",
            "O|X|O\n",
            "It's your turn,X.Move to which place?\n",
            "6\n",
            "X|O|O\n",
            "-+-+-\n",
            "X|X|X\n",
            "-+-+-\n",
            "O|X|O\n",
            "\n",
            "Game Over.\n",
            "\n",
            " **** X won. ****\n",
            "Do want to play Again?(y/n)n\n"
          ],
          "name": "stdout"
        }
      ]
    },
    {
      "cell_type": "code",
      "metadata": {
        "id": "EZmdY7GIMsxZ",
        "colab_type": "code",
        "colab": {}
      },
      "source": [
        ""
      ],
      "execution_count": null,
      "outputs": []
    }
  ]
}